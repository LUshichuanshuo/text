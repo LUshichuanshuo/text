{
 "cells": [
  {
   "cell_type": "markdown",
   "metadata": {},
   "source": [
    "# 选择\n",
    "## 布尔类型、数值和表达式\n",
    "![](../Photo/33.png)\n",
    "- 注意：比较运算符的相等是两个等到，一个等到代表赋值\n",
    "- 在Python中可以用整型0来代表False，其他数字来代表True\n",
    "- 后面还会讲到 is 在判断语句中的用发"
   ]
  },
  {
   "cell_type": "code",
   "execution_count": 1,
   "metadata": {},
   "outputs": [
    {
     "data": {
      "text/plain": [
       "True"
      ]
     },
     "execution_count": 1,
     "metadata": {},
     "output_type": "execute_result"
    }
   ],
   "source": [
    "10 == 10"
   ]
  },
  {
   "cell_type": "code",
   "execution_count": 2,
   "metadata": {},
   "outputs": [
    {
     "data": {
      "text/plain": [
       "True"
      ]
     },
     "execution_count": 2,
     "metadata": {},
     "output_type": "execute_result"
    }
   ],
   "source": [
    "0 == False"
   ]
  },
  {
   "cell_type": "code",
   "execution_count": 3,
   "metadata": {},
   "outputs": [
    {
     "data": {
      "text/plain": [
       "True"
      ]
     },
     "execution_count": 3,
     "metadata": {},
     "output_type": "execute_result"
    }
   ],
   "source": [
    "1 == True"
   ]
  },
  {
   "cell_type": "markdown",
   "metadata": {},
   "source": [
    "## 字符串的比较使用ASCII值"
   ]
  },
  {
   "cell_type": "code",
   "execution_count": 9,
   "metadata": {},
   "outputs": [
    {
     "name": "stdout",
     "output_type": "stream",
     "text": [
      ">>30\n",
      "D\n"
     ]
    }
   ],
   "source": [
    "number = eval(input('>>'))\n",
    "if number >=90:\n",
    "    print('A')\n",
    "elif 80 < number <=90:\n",
    "    print('B')\n",
    "elif 70 < number <=80:\n",
    "    print('B')\n",
    "elif number < 70:\n",
    "    print('D')"
   ]
  },
  {
   "cell_type": "markdown",
   "metadata": {},
   "source": [
    ";## Markdown \n",
    "- https://github.com/younghz/Markdown"
   ]
  },
  {
   "cell_type": "markdown",
   "metadata": {},
   "source": [
    "## EP:\n",
    "- <img src=\"../Photo/34.png\"></img>\n",
    "- 输入一个数字，判断其实奇数还是偶数"
   ]
  },
  {
   "cell_type": "code",
   "execution_count": 11,
   "metadata": {},
   "outputs": [],
   "source": [
    "i = int(True)"
   ]
  },
  {
   "cell_type": "code",
   "execution_count": 13,
   "metadata": {},
   "outputs": [],
   "source": [
    "j = int(False)"
   ]
  },
  {
   "cell_type": "code",
   "execution_count": 14,
   "metadata": {},
   "outputs": [],
   "source": [
    "b1 = bool(4)"
   ]
  },
  {
   "cell_type": "markdown",
   "metadata": {},
   "source": [
    "## 产生随机数字\n",
    "- 函数random.randint(a,b) 可以用来产生一个a和b之间且包括a和b的随机整数"
   ]
  },
  {
   "cell_type": "code",
   "execution_count": 32,
   "metadata": {},
   "outputs": [
    {
     "name": "stdout",
     "output_type": "stream",
     "text": [
      ">>4\n",
      "太大了\n",
      ">>3\n",
      "太大了\n",
      ">>2\n",
      "太大了\n",
      ">>1\n",
      "对\n"
     ]
    }
   ],
   "source": [
    "#产生一个随机数，输入，如果输入的数大于随机数，太大，否则太小\n",
    "#一直输入，直到满意\n",
    "\n",
    "import random\n",
    "num = random.randint(1,5)\n",
    "while True:\n",
    "    number = eval(input('>>'))\n",
    "    if number == num:\n",
    "        print('对')\n",
    "        break\n",
    "    elif number > num:\n",
    "        print('太大了')\n",
    "    elif number < num:\n",
    "        print('太小了')"
   ]
  },
  {
   "cell_type": "markdown",
   "metadata": {},
   "source": [
    "##  其他random方法\n",
    "- random.random 返回0.0到1.0之间前闭后开区间的随机浮点\n",
    "- random.randrange(a,b) 前闭后开"
   ]
  },
  {
   "cell_type": "code",
   "execution_count": null,
   "metadata": {},
   "outputs": [],
   "source": []
  },
  {
   "cell_type": "markdown",
   "metadata": {},
   "source": [
    "## EP：\n",
    "- 产生两个随机整数number1和number2，然后显示给用户，使用户输入数字的和，并判定其是否正确\n",
    "- 进阶:写一个随机序号点名程序"
   ]
  },
  {
   "cell_type": "code",
   "execution_count": null,
   "metadata": {},
   "outputs": [
    {
     "name": "stdout",
     "output_type": "stream",
     "text": [
      ">>5\n",
      "错误\n"
     ]
    }
   ],
   "source": [
    "import random\n",
    "num1 = random.randint(1,3)  \n",
    "num2 = random.randint(6,9)  \n",
    "a = num1+num2\n",
    "while True:\n",
    "    number = eval(input('>>'))\n",
    "    if number == a :\n",
    "        print('正确')\n",
    "        break\n",
    "    else:\n",
    "        print('错误')"
   ]
  },
  {
   "cell_type": "code",
   "execution_count": null,
   "metadata": {},
   "outputs": [],
   "source": []
  },
  {
   "cell_type": "markdown",
   "metadata": {},
   "source": [
    "## if语句\n",
    "- 如果条件正确就执行一个单向if语句，亦即当条件为真的时候才执行if内部的语句\n",
    "- Python有很多选择语句:\n",
    "> - 单向if \n",
    "  - 双向if-else\n",
    "  - 嵌套if\n",
    "  - 多向if-elif-else\n",
    "  \n",
    "- 注意：当语句含有子语句的时候，那么一定至少要有一个缩进，也就是说如果有儿子存在，那么一定要缩进\n",
    "- 切记不可tab键和space混用，单用tab 或者 space\n",
    "- 当你输出的结果是无论if是否为真时都需要显示时，语句应该与if对齐"
   ]
  },
  {
   "cell_type": "code",
   "execution_count": null,
   "metadata": {},
   "outputs": [],
   "source": [
    "age = eval(input('年龄为：'))\n",
    "if age <= 30:\n",
    "    face = input('长相为:')\n",
    "    if face == '好':\n",
    "        money = eval(input('收入为：'))\n",
    "        if money >=8000 :\n",
    "            work = input('是否公务员：')\n",
    "            if work == '是':\n",
    "                print('好吧')\n",
    "            else:\n",
    "                print('不可以')\n",
    "        else:\n",
    "            print('不行，太低了')\n",
    "    else:\n",
    "        print('no')\n",
    "else:\n",
    "    print('too old') "
   ]
  },
  {
   "cell_type": "markdown",
   "metadata": {},
   "source": [
    "## EP：\n",
    "- 用户输入一个数字，判断其实奇数还是偶数\n",
    "- 进阶：可以查看下4.5实例研究猜生日"
   ]
  },
  {
   "cell_type": "code",
   "execution_count": null,
   "metadata": {},
   "outputs": [],
   "source": []
  },
  {
   "cell_type": "markdown",
   "metadata": {},
   "source": [
    "## 双向if-else 语句\n",
    "- 如果条件为真，那么走if内部语句，否则走else内部语句"
   ]
  },
  {
   "cell_type": "markdown",
   "metadata": {},
   "source": [
    "## EP：\n",
    "- 产生两个随机整数number1和number2，然后显示给用户，使用户输入数字，并判定其是否正确,如果正确打印“you‘re correct”，否则打印正确错误"
   ]
  },
  {
   "cell_type": "markdown",
   "metadata": {},
   "source": [
    "## 嵌套if 和多向if-elif-else\n",
    "![](../Photo/35.png)"
   ]
  },
  {
   "cell_type": "markdown",
   "metadata": {},
   "source": [
    "## EP：\n",
    "- 提示用户输入一个年份，然后显示表示这一年的动物\n",
    "![](../Photo/36.png)\n",
    "- 计算身体质量指数的程序\n",
    "- BMI = 以千克为单位的体重除以以米为单位的身高\n",
    "![](../Photo/37.png)"
   ]
  },
  {
   "cell_type": "code",
   "execution_count": null,
   "metadata": {},
   "outputs": [],
   "source": [
    "year = eval(input('请输入年份：'))\n",
    "if year % 12 == 0:\n",
    "    print('猴')\n",
    "elif year % 12 == 1:\n",
    "    print('鸡')\n",
    "elif year % 12 == 2:\n",
    "    print('狗')\n",
    "elif year % 12 == 3:\n",
    "    print('猪')\n",
    "elif year % 12 == 4:\n",
    "    print('鼠')\n",
    "elif year % 12 == 5:\n",
    "    print('牛')\n",
    "elif year % 12 == 6:\n",
    "    print('虎')\n",
    "elif year % 12 == 7:\n",
    "    print('兔')\n",
    "elif year % 12 == 8:\n",
    "    print('龙')\n",
    "elif year % 12 == 9:\n",
    "    print('蛇')\n",
    "elif year % 12 == 10:\n",
    "    print('马')\n",
    "elif year % 12 == 11:\n",
    "    print('羊')\n"
   ]
  },
  {
   "cell_type": "code",
   "execution_count": 1,
   "metadata": {},
   "outputs": [
    {
     "data": {
      "text/plain": [
       "15.624999999999996"
      ]
     },
     "execution_count": 1,
     "metadata": {},
     "output_type": "execute_result"
    }
   ],
   "source": [
    "40/(1.6**2)"
   ]
  },
  {
   "cell_type": "markdown",
   "metadata": {},
   "source": [
    "## 逻辑运算符\n",
    "![](../Photo/38.png)"
   ]
  },
  {
   "cell_type": "code",
   "execution_count": null,
   "metadata": {},
   "outputs": [],
   "source": [
    "if '长得高'==res  or '长得帅'== res\n",
    "  pass"
   ]
  },
  {
   "cell_type": "code",
   "execution_count": null,
   "metadata": {},
   "outputs": [],
   "source": [
    "if '长得高'==res  and '长得帅'== res\n",
    "  pass"
   ]
  },
  {
   "cell_type": "markdown",
   "metadata": {},
   "source": [
    "![](../Photo/39.png)\n",
    "![](../Photo/40.png)"
   ]
  },
  {
   "cell_type": "code",
   "execution_count": null,
   "metadata": {},
   "outputs": [],
   "source": []
  },
  {
   "cell_type": "markdown",
   "metadata": {},
   "source": [
    "## EP：\n",
    "- 判定闰年：一个年份如果能被4整除但不能被100整除，或者能被400整除，那么这个年份就是闰年\n",
    "- 提示用户输入一个年份，并返回是否是闰年\n",
    "- 提示用户输入一个数字，判断其是否为水仙花数"
   ]
  },
  {
   "cell_type": "code",
   "execution_count": 8,
   "metadata": {},
   "outputs": [
    {
     "ename": "SyntaxError",
     "evalue": "invalid syntax (<ipython-input-8-5a7561bcb857>, line 2)",
     "output_type": "error",
     "traceback": [
      "\u001b[1;36m  File \u001b[1;32m\"<ipython-input-8-5a7561bcb857>\"\u001b[1;36m, line \u001b[1;32m2\u001b[0m\n\u001b[1;33m    if (age % 4 == 0 ) and (age % 100! ==0) or (age%400==0)\u001b[0m\n\u001b[1;37m                                     ^\u001b[0m\n\u001b[1;31mSyntaxError\u001b[0m\u001b[1;31m:\u001b[0m invalid syntax\n"
     ]
    }
   ],
   "source": [
    "age = eval(input('年：'))\n",
    "if (age % 4 == 0 ) and (age % 100! ==0) or (age % 400 == 0)\n",
    "  print('闰年')\n",
    "else\n",
    "  print('不是润年')\n"
   ]
  },
  {
   "cell_type": "code",
   "execution_count": null,
   "metadata": {},
   "outputs": [],
   "source": []
  },
  {
   "cell_type": "code",
   "execution_count": null,
   "metadata": {},
   "outputs": [],
   "source": []
  },
  {
   "cell_type": "code",
   "execution_count": null,
   "metadata": {},
   "outputs": [],
   "source": []
  },
  {
   "cell_type": "markdown",
   "metadata": {},
   "source": [
    "## 实例研究：彩票\n",
    "![](../Photo/41.png)"
   ]
  },
  {
   "cell_type": "code",
   "execution_count": null,
   "metadata": {},
   "outputs": [],
   "source": [
    "import random\n",
    "random_1 = random.randint(1,5)\n",
    "random_2 = random.randint(1,5)\n",
    "random_= str(random_1) +str(random_2)\n",
    "print(random_)\n",
    "num = (input('请输入一个两位数的数字：'))\n",
    "if (num == random_):\n",
    "    print('一等奖')\n",
    "elif num[0]== random_[1] and num[1] == random_[0]:\n",
    "    print('二等奖')\n",
    "elif (num[0] == random_[1]) or (num[1] == random_[0]) or (num[0] == random_[0]) or (num[1] == random_[1]):\n",
    "    print('三等奖')"
   ]
  },
  {
   "cell_type": "markdown",
   "metadata": {},
   "source": [
    "# Homework\n",
    "- 1\n",
    "![](../Photo/42.png)"
   ]
  },
  {
   "cell_type": "code",
   "execution_count": 24,
   "metadata": {},
   "outputs": [
    {
     "name": "stdout",
     "output_type": "stream",
     "text": [
      "输入三个数：1,3,1\n",
      "-0.3819660112501051 -2.618033988749895\n"
     ]
    }
   ],
   "source": [
    "import math\n",
    "a,b,c = eval(input('输入三个数：'))\n",
    "r1 = (-b+math.sqrt(b*b-4*a*c))/(2*a)\n",
    "r2 = (-b-math.sqrt(b*b-4*a*c))/(2*a)\n",
    "if ((b*b)-(4*a*c))>0:\n",
    "    print(str(r1),str(r2))\n",
    "elif ((b*b)-(4*a*c))==0:\n",
    "    print(r1)\n",
    "elif ((b*b)-(4*a*c))<0:\n",
    "     print('The')\n",
    "\n"
   ]
  },
  {
   "cell_type": "markdown",
   "metadata": {},
   "source": [
    "- 2\n",
    "![](../Photo/43.png)"
   ]
  },
  {
   "cell_type": "code",
   "execution_count": 1,
   "metadata": {},
   "outputs": [
    {
     "name": "stdout",
     "output_type": "stream",
     "text": [
      "28 9\n",
      "37\n",
      ">>37\n",
      "正确\n"
     ]
    }
   ],
   "source": [
    "import random\n",
    "num1 = random.randint(0,100)  \n",
    "num2 = random.randint(0,100)  \n",
    "a = num1+num2\n",
    "print(num1,num2)\n",
    "print(a)\n",
    "while True:\n",
    "    number = eval(input('>>'))\n",
    "    if number == a :\n",
    "        print('正确')\n",
    "        break\n",
    "    else:\n",
    "        print('错误')\n",
    "        "
   ]
  },
  {
   "cell_type": "markdown",
   "metadata": {},
   "source": [
    "- 3\n",
    "![](../Photo/44.png)"
   ]
  },
  {
   "cell_type": "code",
   "execution_count": 1,
   "metadata": {},
   "outputs": [
    {
     "name": "stdout",
     "output_type": "stream",
     "text": [
      "请输入天数：1\n",
      "请输入未来天数：3\n",
      "星期四\n"
     ]
    }
   ],
   "source": [
    "a = eval(input('请输入天数：'))\n",
    "b = eval(input('请输入未来天数：'))\n",
    "year = a+b\n",
    "if year % 7 == 0:\n",
    "    print('星期日')\n",
    "elif year % 7 == 1:\n",
    "    print('星期一')\n",
    "elif year % 7 == 2:\n",
    "    print('星期二')\n",
    "elif year % 7 == 3:\n",
    "    print('星期三')\n",
    "elif year % 7 == 4:\n",
    "    print('星期四')\n",
    "elif year % 7 == 5:\n",
    "    print('星期五')\n",
    "elif year % 7 == 6:\n",
    "    print('星期六')\n"
   ]
  },
  {
   "cell_type": "code",
   "execution_count": null,
   "metadata": {},
   "outputs": [],
   "source": [
    "1\n"
   ]
  },
  {
   "cell_type": "markdown",
   "metadata": {},
   "source": [
    "- 4\n",
    "![](../Photo/45.png)"
   ]
  },
  {
   "cell_type": "code",
   "execution_count": 4,
   "metadata": {},
   "outputs": [
    {
     "name": "stdout",
     "output_type": "stream",
     "text": [
      ">>9,6,3\n",
      "[3, 6, 9]\n"
     ]
    }
   ],
   "source": [
    "a,b,c = eval(input('>>'))\n",
    "d = [a,b,c]\n",
    "d.sort()\n",
    "print(d)"
   ]
  },
  {
   "cell_type": "markdown",
   "metadata": {},
   "source": [
    "- 5\n",
    "![](../Photo/46.png)"
   ]
  },
  {
   "cell_type": "code",
   "execution_count": 6,
   "metadata": {},
   "outputs": [
    {
     "name": "stdout",
     "output_type": "stream",
     "text": [
      ">>50,24.59\n",
      ">>25,11.99\n",
      "比较实惠\n"
     ]
    }
   ],
   "source": [
    "a1,b1 = eval(input('>>'))\n",
    "a2,b2 = eval(input('>>'))\n",
    "c = b1/a1\n",
    "d = b2/a2\n",
    "if c<d:\n",
    "    print('不实惠')\n",
    "else:\n",
    "    print('比较实惠')"
   ]
  },
  {
   "cell_type": "markdown",
   "metadata": {},
   "source": [
    "- 6\n",
    "![](../Photo/47.png)"
   ]
  },
  {
   "cell_type": "code",
   "execution_count": null,
   "metadata": {},
   "outputs": [],
   "source": [
    "year,mouth = eval(input('请输入年份和月份：'))\n",
    "if (mouth==2 and year % 4 == 0) and (year % 100!= 0 ) or (year % 400 == 0):\n",
    "    print(str(year)+'年'+str(mouth)+'月有29天')\n",
    "else:\n",
    "    print(str(year)+'年'+str(mouth)+'月有28天')\n",
    "if mouth == (1,3,5,7,8,10,12):\n",
    "    print(str(year)+'年'+str(mouth)+'月有31天')\n",
    "elif mouth == (4,6,9,11):\n",
    "    print(str(year)+'年'+str(mouth)+'月有30天')"
   ]
  },
  {
   "cell_type": "markdown",
   "metadata": {},
   "source": [
    "- 7\n",
    "![](../Photo/48.png)"
   ]
  },
  {
   "cell_type": "code",
   "execution_count": null,
   "metadata": {},
   "outputs": [],
   "source": [
    "x = input('请输入你的猜想：')\n",
    "random_ = random.randint(1,2)\n",
    "if random_ == 1 :\n",
    "    print('猜对了')\n",
    "elif random_ == 2:\n",
    "    print('猜错了')"
   ]
  },
  {
   "cell_type": "markdown",
   "metadata": {},
   "source": [
    "- 8\n",
    "![](../Photo/49.png)"
   ]
  },
  {
   "cell_type": "markdown",
   "metadata": {},
   "source": [
    "- 9\n",
    "![](../Photo/50.png)"
   ]
  },
  {
   "cell_type": "code",
   "execution_count": null,
   "metadata": {},
   "outputs": [],
   "source": []
  },
  {
   "cell_type": "markdown",
   "metadata": {},
   "source": [
    "- 10\n",
    "![](../Photo/51.png)"
   ]
  },
  {
   "cell_type": "code",
   "execution_count": null,
   "metadata": {},
   "outputs": [],
   "source": [
    "import random\n",
    "a = ('Ace',2,3,4,5,6,7,8,9,10,'jack','Queen','King')\n",
    "b = ('梅花','红桃','方块','黑桃')\n",
    "c = random.sample(a,1)\n",
    "d = random.sample(b,1)\n",
    "print('这张扑克牌是'+str(d),str(c))"
   ]
  },
  {
   "cell_type": "markdown",
   "metadata": {},
   "source": [
    "- 11\n",
    "![](../Photo/52.png)"
   ]
  },
  {
   "cell_type": "code",
   "execution_count": null,
   "metadata": {},
   "outputs": [],
   "source": [
    "num = eval(input('请输入一个三位数：'))\n",
    "a = num%10\n",
    "b = (num//10)%10\n",
    "c = num%100\n",
    "x= str(a)+str(b)+str(c)\n",
    "y = str(c)+str(b)+str(a)\n",
    "print(x)\n",
    "if x==y:\n",
    "    print(x+'是回文数')\n",
    "else:\n",
    "    print(x+'不是回文数')"
   ]
  },
  {
   "cell_type": "markdown",
   "metadata": {},
   "source": [
    "- 12\n",
    "![](../Photo/53.png)"
   ]
  },
  {
   "cell_type": "code",
   "execution_count": null,
   "metadata": {},
   "outputs": [],
   "source": [
    "a,b,c = eval(input('请输入三边长度：'))\n",
    "x = a+b+c\n",
    "if ((a+b)>c) and ((a+c)>b) and ((b+c)>a):\n",
    "    print(x)\n",
    "else:\n",
    "    print('不符合规则')"
   ]
  }
 ],
 "metadata": {
  "kernelspec": {
   "display_name": "Python 3",
   "language": "python",
   "name": "python3"
  },
  "language_info": {
   "codemirror_mode": {
    "name": "ipython",
    "version": 3
   },
   "file_extension": ".py",
   "mimetype": "text/x-python",
   "name": "python",
   "nbconvert_exporter": "python",
   "pygments_lexer": "ipython3",
   "version": "3.6.4"
  }
 },
 "nbformat": 4,
 "nbformat_minor": 2
}
